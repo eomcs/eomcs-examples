{
 "cells": [
  {
   "cell_type": "markdown",
   "id": "b5c8ea9a",
   "metadata": {},
   "source": [
    "# PEP 8 - 파이썬 스타일 가이드\n",
    "\n",
    "## "
   ]
  }
 ],
 "metadata": {
  "language_info": {
   "name": "python"
  }
 },
 "nbformat": 4,
 "nbformat_minor": 5
}
